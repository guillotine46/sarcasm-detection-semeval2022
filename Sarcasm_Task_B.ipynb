{
  "nbformat": 4,
  "nbformat_minor": 0,
  "metadata": {
    "colab": {
      "provenance": []
    },
    "kernelspec": {
      "name": "python3",
      "display_name": "Python 3"
    },
    "language_info": {
      "name": "python"
    }
  },
  "cells": [
    {
      "cell_type": "code",
      "source": [
        "!pip install scikit-multilearn"
      ],
      "metadata": {
        "colab": {
          "base_uri": "https://localhost:8080/"
        },
        "id": "SJw97wlh-T4T",
        "outputId": "09120fcb-442f-41a3-c182-7803ff0f0cae"
      },
      "execution_count": null,
      "outputs": [
        {
          "output_type": "stream",
          "name": "stdout",
          "text": [
            "Collecting scikit-multilearn\n",
            "  Downloading scikit_multilearn-0.2.0-py3-none-any.whl (89 kB)\n",
            "\u001b[?25l\r\u001b[K     |███▊                            | 10 kB 26.5 MB/s eta 0:00:01\r\u001b[K     |███████▍                        | 20 kB 12.7 MB/s eta 0:00:01\r\u001b[K     |███████████                     | 30 kB 8.6 MB/s eta 0:00:01\r\u001b[K     |██████████████▊                 | 40 kB 3.8 MB/s eta 0:00:01\r\u001b[K     |██████████████████▍             | 51 kB 3.8 MB/s eta 0:00:01\r\u001b[K     |██████████████████████          | 61 kB 4.5 MB/s eta 0:00:01\r\u001b[K     |█████████████████████████▊      | 71 kB 4.7 MB/s eta 0:00:01\r\u001b[K     |█████████████████████████████▍  | 81 kB 4.9 MB/s eta 0:00:01\r\u001b[K     |████████████████████████████████| 89 kB 3.3 MB/s \n",
            "\u001b[?25hInstalling collected packages: scikit-multilearn\n",
            "Successfully installed scikit-multilearn-0.2.0\n"
          ]
        }
      ]
    },
    {
      "cell_type": "code",
      "source": [
        "!pip install scikit-learn==0.24.1"
      ],
      "metadata": {
        "colab": {
          "base_uri": "https://localhost:8080/"
        },
        "id": "hwvj3181EM6X",
        "outputId": "844ce11e-182e-43cc-fe0b-2f4c42cc61af"
      },
      "execution_count": null,
      "outputs": [
        {
          "output_type": "stream",
          "name": "stdout",
          "text": [
            "Collecting scikit-learn==0.24.1\n",
            "  Downloading scikit_learn-0.24.1-cp37-cp37m-manylinux2010_x86_64.whl (22.3 MB)\n",
            "\u001b[K     |████████████████████████████████| 22.3 MB 116.1 MB/s \n",
            "\u001b[?25hRequirement already satisfied: joblib>=0.11 in /usr/local/lib/python3.7/dist-packages (from scikit-learn==0.24.1) (1.1.0)\n",
            "Requirement already satisfied: threadpoolctl>=2.0.0 in /usr/local/lib/python3.7/dist-packages (from scikit-learn==0.24.1) (3.1.0)\n",
            "Requirement already satisfied: numpy>=1.13.3 in /usr/local/lib/python3.7/dist-packages (from scikit-learn==0.24.1) (1.21.5)\n",
            "Requirement already satisfied: scipy>=0.19.1 in /usr/local/lib/python3.7/dist-packages (from scikit-learn==0.24.1) (1.4.1)\n",
            "Installing collected packages: scikit-learn\n",
            "  Attempting uninstall: scikit-learn\n",
            "    Found existing installation: scikit-learn 1.0.2\n",
            "    Uninstalling scikit-learn-1.0.2:\n",
            "      Successfully uninstalled scikit-learn-1.0.2\n",
            "Successfully installed scikit-learn-0.24.1\n"
          ]
        }
      ]
    },
    {
      "cell_type": "code",
      "source": [
        "import pandas as pd\n",
        "import numpy as np\n",
        "from sklearn.model_selection import train_test_split\n",
        "from sklearn.feature_extraction.text import TfidfVectorizer\n",
        "from sklearn.metrics import hamming_loss, accuracy_score, precision_score\n",
        "from skmultilearn.problem_transform import BinaryRelevance\n",
        "from sklearn.naive_bayes import GaussianNB"
      ],
      "metadata": {
        "id": "--Tdl_AIOQIO"
      },
      "execution_count": null,
      "outputs": []
    },
    {
      "cell_type": "code",
      "source": [
        "aspects_df = pd.read_csv('irony_train.csv')"
      ],
      "metadata": {
        "id": "nDlAWriboJuX"
      },
      "execution_count": null,
      "outputs": []
    },
    {
      "cell_type": "code",
      "source": [
        "aspects_df1 = pd.read_csv('taskB.En.input.csv')"
      ],
      "metadata": {
        "id": "eTYzKuAo9OgD"
      },
      "execution_count": null,
      "outputs": []
    },
    {
      "cell_type": "code",
      "source": [
        "X = aspects_df[\"tweet\"]\n",
        "y = np.asarray(aspects_df[aspects_df.columns[1:]])\n",
        "\n",
        "# initializing TfidfVectorizer\n",
        "vetorizar = TfidfVectorizer(max_features=3000, max_df=0.85)\n",
        "# fitting the tf-idf on the given data\n",
        "vetorizar.fit(X)\n",
        "\n",
        "# splitting the data to training and testing data set\n",
        "X_train, X_test, y_train, y_test = train_test_split(X, y, test_size=0.2, random_state=42)\n",
        "\n",
        "# transforming the data\n",
        "X_train_tfidf = vetorizar.transform(X_train)\n",
        "X_test_tfidf = vetorizar.transform(X_test)"
      ],
      "metadata": {
        "id": "HLwMN8jU-Pyx"
      },
      "execution_count": null,
      "outputs": []
    },
    {
      "cell_type": "code",
      "source": [
        "# initialize binary relevance multi-label classifier\n",
        "# with a gaussian naive bayes base classifier\n",
        "classifier = BinaryRelevance(GaussianNB())"
      ],
      "metadata": {
        "id": "fXjhqIoagr8v"
      },
      "execution_count": null,
      "outputs": []
    },
    {
      "cell_type": "code",
      "source": [
        "classifier.fit(X_train_tfidf,y_train)"
      ],
      "metadata": {
        "colab": {
          "base_uri": "https://localhost:8080/"
        },
        "id": "IsrbLzjs-s8A",
        "outputId": "a605c962-b98e-4379-ce97-2257bafe29f6"
      },
      "execution_count": null,
      "outputs": [
        {
          "output_type": "execute_result",
          "data": {
            "text/plain": [
              "BinaryRelevance(classifier=GaussianNB(), require_dense=[True, True])"
            ]
          },
          "metadata": {},
          "execution_count": 8
        }
      ]
    },
    {
      "cell_type": "code",
      "source": [
        "A = aspects_df1[\"text\"]"
      ],
      "metadata": {
        "id": "o0gdQmO2-PHd"
      },
      "execution_count": null,
      "outputs": []
    },
    {
      "cell_type": "code",
      "source": [
        "A_tfidf = vetorizar.transform(A)"
      ],
      "metadata": {
        "id": "34_Lqo_I-GSz"
      },
      "execution_count": null,
      "outputs": []
    },
    {
      "cell_type": "code",
      "source": [
        "predicted = classifier.predict(X_test_tfidf)\n",
        "predicted = predicted.toarray()\n",
        "\n",
        "print(accuracy_score(y_test, predicted))\n",
        "print(hamming_loss(y_test, predicted))\n",
        "print(precision_score(y_test, predicted, average=None))"
      ],
      "metadata": {
        "colab": {
          "base_uri": "https://localhost:8080/"
        },
        "id": "b4xkYZZ6Oque",
        "outputId": "d38ccf01-0ffa-42f1-da29-9c9e8f053d86"
      },
      "execution_count": null,
      "outputs": [
        {
          "output_type": "stream",
          "name": "stdout",
          "text": [
            "0.5919540229885057\n",
            "0.14367816091954022\n",
            "[0.83006536 0.         0.         0.         0.         0.1       ]\n"
          ]
        }
      ]
    },
    {
      "cell_type": "code",
      "source": [
        "predicted = classifier.predict(A_tfidf)\n",
        "predicted = predicted.toarray()"
      ],
      "metadata": {
        "id": "V6KubCIvEVJ4"
      },
      "execution_count": null,
      "outputs": []
    },
    {
      "cell_type": "code",
      "source": [
        "print(predicted)"
      ],
      "metadata": {
        "colab": {
          "base_uri": "https://localhost:8080/"
        },
        "id": "tI_SKOoDMWZP",
        "outputId": "346705d2-ad35-451c-f242-a8da2be91c28"
      },
      "execution_count": null,
      "outputs": [
        {
          "output_type": "stream",
          "name": "stdout",
          "text": [
            "[[1 0 0 0 0 0]\n",
            " [1 0 0 0 0 0]\n",
            " [0 1 1 1 1 1]\n",
            " ...\n",
            " [1 0 0 0 0 0]\n",
            " [1 0 0 0 0 0]\n",
            " [1 0 0 0 0 0]]\n"
          ]
        }
      ]
    },
    {
      "cell_type": "code",
      "source": [
        "\",\".join(str(predicted))"
      ],
      "metadata": {
        "colab": {
          "base_uri": "https://localhost:8080/",
          "height": 54
        },
        "id": "7z9Lf8D03N2E",
        "outputId": "07e9c5b7-2739-413c-e733-4c9f90e05442"
      },
      "execution_count": null,
      "outputs": [
        {
          "output_type": "execute_result",
          "data": {
            "application/vnd.google.colaboratory.intrinsic+json": {
              "type": "string"
            },
            "text/plain": [
              "'[,[,1, ,0, ,0, ,0, ,0, ,0,],\\n, ,[,1, ,0, ,0, ,0, ,0, ,0,],\\n, ,[,0, ,1, ,1, ,1, ,1, ,1,],\\n, ,.,.,.,\\n, ,[,1, ,0, ,0, ,0, ,0, ,0,],\\n, ,[,1, ,0, ,0, ,0, ,0, ,0,],\\n, ,[,1, ,0, ,0, ,0, ,0, ,0,],]'"
            ]
          },
          "metadata": {},
          "execution_count": 14
        }
      ]
    },
    {
      "cell_type": "code",
      "source": [
        "np.savetxt(\"predictionsB.txt\", predicted, fmt=\"%s\",)"
      ],
      "metadata": {
        "id": "3Fg-Xlod07S8"
      },
      "execution_count": null,
      "outputs": []
    }
  ]
}